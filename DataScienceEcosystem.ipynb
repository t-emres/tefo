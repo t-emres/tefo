{
 "cells": [
  {
   "cell_type": "markdown",
   "id": "291d661d-3999-420b-a431-f743a9c41b6b",
   "metadata": {},
   "source": [
    "# Data Science Tools and Ecosystem"
   ]
  },
  {
   "cell_type": "markdown",
   "id": "734a3233-3cae-4aad-b4e9-8981f67827c6",
   "metadata": {},
   "source": [
    "In this notebook, Data Science Tools and Ecosystem are summarized."
   ]
  },
  {
   "cell_type": "markdown",
   "id": "ff9347a0-67e4-4483-b525-ce4c478270c9",
   "metadata": {},
   "source": [
    "Some of the popular languages that Data Scientists use are:\n",
    "1) Python\n",
    "2) R\n",
    "3) SQL\n",
    "4) Others (Scala, Java, C++ etc.)"
   ]
  },
  {
   "cell_type": "markdown",
   "id": "cef5fb55-1e9e-44ce-93bf-1961b292455e",
   "metadata": {},
   "source": [
    "Some of the commonly used libraries used by Data Scientists include:\n",
    "1) Pandas\n",
    "2) NumPy\n",
    "3) SciPy\n",
    "4) Matplotlib\n",
    "5) PyTorch\n",
    "6) TensorFlow\n",
    "7) Keras\n",
    "8) ScikitLearn"
   ]
  },
  {
   "cell_type": "markdown",
   "id": "d64a46b0-bf34-4d67-a488-05fd5e081a9e",
   "metadata": {},
   "source": [
    "## Data Science Tools\n",
    "|Data Management|Data Integration and Transformation|Data Visualization|Model Deployment|Model Monitoring| \n",
    "|---------------|-----------------------------------|------------------|----------------|----------------|\n",
    "|MySQL          |ApacheAirFlow                      |Hue               |PredictionIO    |ModelDB         |\n",
    "|MongoDB        |KubeFlow                           |Kibana            |Seldon          |Prometheus      |"
   ]
  },
  {
   "cell_type": "markdown",
   "id": "5f0d7c31-3f7c-4b5c-94bd-3ddf80ef0afc",
   "metadata": {},
   "source": [
    "### Below are a few examples of evaluating arithmetic expressions in Python \n",
    "1) Addition : x+y\n",
    "2) Substraction : x-y\n",
    "3) Multiplication : x*y \n",
    "4) Division : x/y\n",
    "5) Modulus : x%y\n",
    "6) Exponentiation : x**y\n",
    "7) Floor Division : x//y"
   ]
  },
  {
   "cell_type": "code",
   "execution_count": 1,
   "id": "a9f3734c-dc4b-4ff6-9623-d0729ca4ec7e",
   "metadata": {},
   "outputs": [
    {
     "data": {
      "text/plain": [
       "17"
      ]
     },
     "execution_count": 1,
     "metadata": {},
     "output_type": "execute_result"
    }
   ],
   "source": [
    "# This a simple arithmetic expression to mutiply then add integers\n",
    "(3*4)+5"
   ]
  },
  {
   "cell_type": "code",
   "execution_count": 2,
   "id": "2650103b-ae12-424e-9221-9309cd2f3cfe",
   "metadata": {},
   "outputs": [
    {
     "name": "stdout",
     "output_type": "stream",
     "text": [
      "200 minutes is 3.3333333333333335 hours\n"
     ]
    }
   ],
   "source": [
    "# This will convert 200 minutes to hours by diving by 60\n",
    "minutes = 200\n",
    "hours = minutes / 60\n",
    "print (minutes, 'minutes', 'is', hours, 'hours')"
   ]
  },
  {
   "cell_type": "markdown",
   "id": "0f780aed-d0cb-4439-a10a-e5c2a78a19e2",
   "metadata": {},
   "source": [
    "**Objectives:**\n",
    "* Cite popular open source, commercial, and cloud-based tools used by data scientists.\n",
    "* Explain the function of an API and list some common API-related terms.Discuss the characteristics of a dataset and the ways data can be structured.\n",
    "* Identify  some of the libraries used in data science and the types of functionalities a library can provide.\n",
    "* Compare and contrast between machine learning, deep learning and their use cases.\n",
    "* Discuss the different classes of machine learning models.\n",
    "* Summarize the advantages of using a pre-trained model as opposed to training a model from scratch.\n",
    "* Identify the languages, tools, and data used by data scientists.\n",
    "* Access and explore data sets in the Data Asset Exchange (DAX).\n",
    "* Examine deep learning models on the Model Asset Exchange (MAX) and interact with an image-detection deep learning model."
   ]
  },
  {
   "cell_type": "markdown",
   "id": "2faaf328-17e0-451b-829d-8ea4818ff7c0",
   "metadata": {},
   "source": [
    "## Author\n",
    "Tevfik Emre SEVGIN"
   ]
  },
  {
   "cell_type": "code",
   "execution_count": null,
   "id": "0af7b438-ddee-480a-bc3e-e52ddffc7bae",
   "metadata": {},
   "outputs": [],
   "source": []
  }
 ],
 "metadata": {
  "kernelspec": {
   "display_name": "Python 3 (ipykernel)",
   "language": "python",
   "name": "python3"
  },
  "language_info": {
   "codemirror_mode": {
    "name": "ipython",
    "version": 3
   },
   "file_extension": ".py",
   "mimetype": "text/x-python",
   "name": "python",
   "nbconvert_exporter": "python",
   "pygments_lexer": "ipython3",
   "version": "3.9.10"
  }
 },
 "nbformat": 4,
 "nbformat_minor": 5
}
